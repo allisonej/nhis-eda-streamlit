{
 "cells": [
  {
   "cell_type": "code",
   "execution_count": 9,
   "metadata": {},
   "outputs": [],
   "source": [
    "import pandas as pd\n",
    "tmp = pd.read_csv('shortened_data.csv', encoding='cp949')\n"
   ]
  },
  {
   "cell_type": "code",
   "execution_count": 10,
   "metadata": {},
   "outputs": [],
   "source": [
    "tmp = tmp[tmp['기준년도']==2022][['신장(5cm단위)', '체중(5kg단위)']]\n",
    "tmp.columns = ['height', 'weight']\n",
    "tmp.to_csv(\"shortened_data_2022.csv\")"
   ]
  },
  {
   "cell_type": "code",
   "execution_count": 8,
   "metadata": {},
   "outputs": [
    {
     "data": {
      "text/html": [
       "<div>\n",
       "<style scoped>\n",
       "    .dataframe tbody tr th:only-of-type {\n",
       "        vertical-align: middle;\n",
       "    }\n",
       "\n",
       "    .dataframe tbody tr th {\n",
       "        vertical-align: top;\n",
       "    }\n",
       "\n",
       "    .dataframe thead th {\n",
       "        text-align: right;\n",
       "    }\n",
       "</style>\n",
       "<table border=\"1\" class=\"dataframe\">\n",
       "  <thead>\n",
       "    <tr style=\"text-align: right;\">\n",
       "      <th></th>\n",
       "      <th>Unnamed: 0</th>\n",
       "      <th>기준년도</th>\n",
       "      <th>성별</th>\n",
       "      <th>연령대코드(5세단위)</th>\n",
       "      <th>신장(5cm단위)</th>\n",
       "      <th>체중(5kg단위)</th>\n",
       "    </tr>\n",
       "  </thead>\n",
       "  <tbody>\n",
       "    <tr>\n",
       "      <th>4000000</th>\n",
       "      <td>4000000</td>\n",
       "      <td>2022</td>\n",
       "      <td>2</td>\n",
       "      <td>14</td>\n",
       "      <td>160</td>\n",
       "      <td>75</td>\n",
       "    </tr>\n",
       "    <tr>\n",
       "      <th>4000001</th>\n",
       "      <td>4000001</td>\n",
       "      <td>2022</td>\n",
       "      <td>2</td>\n",
       "      <td>9</td>\n",
       "      <td>150</td>\n",
       "      <td>45</td>\n",
       "    </tr>\n",
       "    <tr>\n",
       "      <th>4000002</th>\n",
       "      <td>4000002</td>\n",
       "      <td>2022</td>\n",
       "      <td>2</td>\n",
       "      <td>13</td>\n",
       "      <td>150</td>\n",
       "      <td>60</td>\n",
       "    </tr>\n",
       "    <tr>\n",
       "      <th>4000003</th>\n",
       "      <td>4000003</td>\n",
       "      <td>2022</td>\n",
       "      <td>2</td>\n",
       "      <td>6</td>\n",
       "      <td>160</td>\n",
       "      <td>50</td>\n",
       "    </tr>\n",
       "    <tr>\n",
       "      <th>4000004</th>\n",
       "      <td>4000004</td>\n",
       "      <td>2022</td>\n",
       "      <td>2</td>\n",
       "      <td>7</td>\n",
       "      <td>160</td>\n",
       "      <td>55</td>\n",
       "    </tr>\n",
       "  </tbody>\n",
       "</table>\n",
       "</div>"
      ],
      "text/plain": [
       "         Unnamed: 0  기준년도  성별  연령대코드(5세단위)  신장(5cm단위)  체중(5kg단위)\n",
       "4000000     4000000  2022   2           14        160         75\n",
       "4000001     4000001  2022   2            9        150         45\n",
       "4000002     4000002  2022   2           13        150         60\n",
       "4000003     4000003  2022   2            6        160         50\n",
       "4000004     4000004  2022   2            7        160         55"
      ]
     },
     "execution_count": 8,
     "metadata": {},
     "output_type": "execute_result"
    }
   ],
   "source": [
    "tmp.head()"
   ]
  },
  {
   "cell_type": "code",
   "execution_count": null,
   "metadata": {},
   "outputs": [],
   "source": []
  }
 ],
 "metadata": {
  "kernelspec": {
   "display_name": "upstage_ai3_eda2",
   "language": "python",
   "name": "python3"
  },
  "language_info": {
   "codemirror_mode": {
    "name": "ipython",
    "version": 3
   },
   "file_extension": ".py",
   "mimetype": "text/x-python",
   "name": "python",
   "nbconvert_exporter": "python",
   "pygments_lexer": "ipython3",
   "version": "3.12.3"
  }
 },
 "nbformat": 4,
 "nbformat_minor": 2
}
