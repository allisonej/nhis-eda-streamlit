{
 "cells": [
  {
   "cell_type": "code",
   "execution_count": 20,
   "metadata": {},
   "outputs": [],
   "source": [
    "import pandas as pd\n",
    "tmp = pd.read_csv('merged_data.csv', encoding='cp949')"
   ]
  },
  {
   "cell_type": "markdown",
   "metadata": {},
   "source": [
    "# BMI 연산용 데이터만 남기고 연도별로 데이터 최소화"
   ]
  },
  {
   "cell_type": "code",
   "execution_count": 21,
   "metadata": {},
   "outputs": [
    {
     "name": "stdout",
     "output_type": "stream",
     "text": [
      "<class 'pandas.core.frame.DataFrame'>\n",
      "Index: 1000000 entries, 0 to 999999\n",
      "Data columns (total 3 columns):\n",
      " #   Column  Non-Null Count    Dtype\n",
      "---  ------  --------------    -----\n",
      " 0   height  1000000 non-null  int64\n",
      " 1   weight  1000000 non-null  int64\n",
      " 2   sex     1000000 non-null  int64\n",
      "dtypes: int64(3)\n",
      "memory usage: 30.5 MB\n",
      "2018 : \n",
      "    height  weight  sex\n",
      "0     160      60    2\n",
      "1     170      55    1\n",
      "2     165      70    1\n",
      "3     150      45    2\n",
      "4     145      50    2 \n",
      " None\n",
      "<class 'pandas.core.frame.DataFrame'>\n",
      "Index: 1000000 entries, 1000000 to 1999999\n",
      "Data columns (total 3 columns):\n",
      " #   Column  Non-Null Count    Dtype\n",
      "---  ------  --------------    -----\n",
      " 0   height  1000000 non-null  int64\n",
      " 1   weight  1000000 non-null  int64\n",
      " 2   sex     1000000 non-null  int64\n",
      "dtypes: int64(3)\n",
      "memory usage: 30.5 MB\n",
      "2019 : \n",
      "          height  weight  sex\n",
      "1000000     165      65    1\n",
      "1000001     155      45    2\n",
      "1000002     160      70    1\n",
      "1000003     170      60    1\n",
      "1000004     170      70    1 \n",
      " None\n",
      "<class 'pandas.core.frame.DataFrame'>\n",
      "Index: 1000000 entries, 2000000 to 2999999\n",
      "Data columns (total 3 columns):\n",
      " #   Column  Non-Null Count    Dtype\n",
      "---  ------  --------------    -----\n",
      " 0   height  1000000 non-null  int64\n",
      " 1   weight  1000000 non-null  int64\n",
      " 2   sex     1000000 non-null  int64\n",
      "dtypes: int64(3)\n",
      "memory usage: 30.5 MB\n",
      "2020 : \n",
      "          height  weight  sex\n",
      "2000000     160      55    2\n",
      "2000001     160      55    2\n",
      "2000002     180     100    1\n",
      "2000003     155      60    2\n",
      "2000004     155      50    2 \n",
      " None\n",
      "<class 'pandas.core.frame.DataFrame'>\n",
      "Index: 1000000 entries, 3000000 to 3999999\n",
      "Data columns (total 3 columns):\n",
      " #   Column  Non-Null Count    Dtype\n",
      "---  ------  --------------    -----\n",
      " 0   height  1000000 non-null  int64\n",
      " 1   weight  1000000 non-null  int64\n",
      " 2   sex     1000000 non-null  int64\n",
      "dtypes: int64(3)\n",
      "memory usage: 30.5 MB\n",
      "2021 : \n",
      "          height  weight  sex\n",
      "3000000     160      65    1\n",
      "3000001     175      90    1\n",
      "3000002     160      55    1\n",
      "3000003     155      50    2\n",
      "3000004     155      65    2 \n",
      " None\n",
      "<class 'pandas.core.frame.DataFrame'>\n",
      "Index: 1000000 entries, 4000000 to 4999999\n",
      "Data columns (total 3 columns):\n",
      " #   Column  Non-Null Count    Dtype\n",
      "---  ------  --------------    -----\n",
      " 0   height  1000000 non-null  int64\n",
      " 1   weight  1000000 non-null  int64\n",
      " 2   sex     1000000 non-null  int64\n",
      "dtypes: int64(3)\n",
      "memory usage: 30.5 MB\n",
      "2022 : \n",
      "          height  weight  sex\n",
      "4000000     160      75    2\n",
      "4000001     150      45    2\n",
      "4000002     150      60    2\n",
      "4000003     160      50    2\n",
      "4000004     160      55    2 \n",
      " None\n"
     ]
    }
   ],
   "source": [
    "y = list(set(tmp['기준년도']))\n",
    "for l in y:\n",
    "    t = tmp[tmp['기준년도']==l][['신장(5cm단위)', '체중(5kg단위)', '성별']]\n",
    "    t.columns = ['height', 'weight', 'sex']\n",
    "    print(f'{l} : \\n {t.head()} \\n {t.info()}')\n",
    "    t.to_csv(f'shortened_data_{l}.csv')"
   ]
  },
  {
   "cell_type": "code",
   "execution_count": null,
   "metadata": {},
   "outputs": [],
   "source": []
  }
 ],
 "metadata": {
  "kernelspec": {
   "display_name": "upstage_ai3_eda2",
   "language": "python",
   "name": "python3"
  },
  "language_info": {
   "codemirror_mode": {
    "name": "ipython",
    "version": 3
   },
   "file_extension": ".py",
   "mimetype": "text/x-python",
   "name": "python",
   "nbconvert_exporter": "python",
   "pygments_lexer": "ipython3",
   "version": "3.12.3"
  }
 },
 "nbformat": 4,
 "nbformat_minor": 2
}
