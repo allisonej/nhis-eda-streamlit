{
 "cells": [
  {
   "cell_type": "code",
   "execution_count": 20,
   "metadata": {},
   "outputs": [],
   "source": [
    "import pandas as pd\n",
    "tmp = pd.read_csv('merged_data.csv', encoding='cp949')"
   ]
  },
  {
   "cell_type": "markdown",
   "metadata": {},
   "source": [
    "# BMI 연산용 데이터만 남기고 연도별로 데이터 최소화"
   ]
  },
  {
   "cell_type": "code",
   "execution_count": 21,
   "metadata": {},
   "outputs": [
    {
     "name": "stdout",
     "output_type": "stream",
     "text": [
      "<class 'pandas.core.frame.DataFrame'>\n",
      "Index: 1000000 entries, 0 to 999999\n",
      "Data columns (total 3 columns):\n",
      " #   Column  Non-Null Count    Dtype\n",
      "---  ------  --------------    -----\n",
      " 0   height  1000000 non-null  int64\n",
      " 1   weight  1000000 non-null  int64\n",
      " 2   sex     1000000 non-null  int64\n",
      "dtypes: int64(3)\n",
      "memory usage: 30.5 MB\n",
      "2018 : \n",
      "    height  weight  sex\n",
      "0     160      60    2\n",
      "1     170      55    1\n",
      "2     165      70    1\n",
      "3     150      45    2\n",
      "4     145      50    2 \n",
      " None\n",
      "<class 'pandas.core.frame.DataFrame'>\n",
      "Index: 1000000 entries, 1000000 to 1999999\n",
      "Data columns (total 3 columns):\n",
      " #   Column  Non-Null Count    Dtype\n",
      "---  ------  --------------    -----\n",
      " 0   height  1000000 non-null  int64\n",
      " 1   weight  1000000 non-null  int64\n",
      " 2   sex     1000000 non-null  int64\n",
      "dtypes: int64(3)\n",
      "memory usage: 30.5 MB\n",
      "2019 : \n",
      "          height  weight  sex\n",
      "1000000     165      65    1\n",
      "1000001     155      45    2\n",
      "1000002     160      70    1\n",
      "1000003     170      60    1\n",
      "1000004     170      70    1 \n",
      " None\n",
      "<class 'pandas.core.frame.DataFrame'>\n",
      "Index: 1000000 entries, 2000000 to 2999999\n",
      "Data columns (total 3 columns):\n",
      " #   Column  Non-Null Count    Dtype\n",
      "---  ------  --------------    -----\n",
      " 0   height  1000000 non-null  int64\n",
      " 1   weight  1000000 non-null  int64\n",
      " 2   sex     1000000 non-null  int64\n",
      "dtypes: int64(3)\n",
      "memory usage: 30.5 MB\n",
      "2020 : \n",
      "          height  weight  sex\n",
      "2000000     160      55    2\n",
      "2000001     160      55    2\n",
      "2000002     180     100    1\n",
      "2000003     155      60    2\n",
      "2000004     155      50    2 \n",
      " None\n",
      "<class 'pandas.core.frame.DataFrame'>\n",
      "Index: 1000000 entries, 3000000 to 3999999\n",
      "Data columns (total 3 columns):\n",
      " #   Column  Non-Null Count    Dtype\n",
      "---  ------  --------------    -----\n",
      " 0   height  1000000 non-null  int64\n",
      " 1   weight  1000000 non-null  int64\n",
      " 2   sex     1000000 non-null  int64\n",
      "dtypes: int64(3)\n",
      "memory usage: 30.5 MB\n",
      "2021 : \n",
      "          height  weight  sex\n",
      "3000000     160      65    1\n",
      "3000001     175      90    1\n",
      "3000002     160      55    1\n",
      "3000003     155      50    2\n",
      "3000004     155      65    2 \n",
      " None\n",
      "<class 'pandas.core.frame.DataFrame'>\n",
      "Index: 1000000 entries, 4000000 to 4999999\n",
      "Data columns (total 3 columns):\n",
      " #   Column  Non-Null Count    Dtype\n",
      "---  ------  --------------    -----\n",
      " 0   height  1000000 non-null  int64\n",
      " 1   weight  1000000 non-null  int64\n",
      " 2   sex     1000000 non-null  int64\n",
      "dtypes: int64(3)\n",
      "memory usage: 30.5 MB\n",
      "2022 : \n",
      "          height  weight  sex\n",
      "4000000     160      75    2\n",
      "4000001     150      45    2\n",
      "4000002     150      60    2\n",
      "4000003     160      50    2\n",
      "4000004     160      55    2 \n",
      " None\n"
     ]
    }
   ],
   "source": [
    "y = list(set(tmp['기준년도']))\n",
    "for l in y:\n",
    "    t = tmp[tmp['기준년도']==l][['신장(5cm단위)', '체중(5kg단위)', '성별']]\n",
    "    t.columns = ['height', 'weight', 'sex']\n",
    "    print(f'{l} : \\n {t.head()} \\n {t.info()}')\n",
    "    t.to_csv(f'shortened_data_{l}.csv')"
   ]
  },
  {
   "cell_type": "code",
   "execution_count": 46,
   "metadata": {},
   "outputs": [
    {
     "name": "stdout",
     "output_type": "stream",
     "text": [
      "<class 'pandas.core.frame.DataFrame'>\n",
      "Index: 1000000 entries, 4000000 to 4999999\n",
      "Data columns (total 4 columns):\n",
      " #   Column  Non-Null Count    Dtype  \n",
      "---  ------  --------------    -----  \n",
      " 0   height  1000000 non-null  int64  \n",
      " 1   weight  1000000 non-null  int64  \n",
      " 2   sex     1000000 non-null  int64  \n",
      " 3   bmi     1000000 non-null  float64\n",
      "dtypes: float64(1), int64(3)\n",
      "memory usage: 38.1 MB\n"
     ]
    }
   ],
   "source": [
    "t['bmi'] = t['weight'] / ( t['height'] / 100 ) ** 2\n",
    "t.info()"
   ]
  },
  {
   "cell_type": "code",
   "execution_count": 60,
   "metadata": {},
   "outputs": [
    {
     "data": {
      "image/png": "[encoded data removed]",
      "text/plain": [
       "<Figure size 640x480 with 1 Axes>"
      ]
     },
     "metadata": {},
     "output_type": "display_data"
    }
   ],
   "source": [
    "import seaborn as sns\n",
    "import matplotlib.pyplot as plt\n",
    "# sns.barplot(t['bmi'])\n",
    "sns.boxplot(x = t['bmi'])\n",
    "plt.show()"
   ]
  },
  {
   "cell_type": "code",
   "execution_count": 56,
   "metadata": {},
   "outputs": [
    {
     "ename": "IndexError",
     "evalue": "index 0 is out of bounds for axis 0 with size 0",
     "output_type": "error",
     "traceback": [
      "\u001b[1;31m---------------------------------------------------------------------------\u001b[0m",
      "\u001b[1;31mIndexError\u001b[0m                                Traceback (most recent call last)",
      "Cell \u001b[1;32mIn[56], line 16\u001b[0m\n\u001b[0;32m     13\u001b[0m sns\u001b[38;5;241m.\u001b[39mboxplot(data\u001b[38;5;241m=\u001b[39mdata)\n\u001b[0;32m     15\u001b[0m \u001b[38;5;66;03m# 특정 데이터 포인트의 위치 찾기\u001b[39;00m\n\u001b[1;32m---> 16\u001b[0m index \u001b[38;5;241m=\u001b[39m np\u001b[38;5;241m.\u001b[39mwhere(data \u001b[38;5;241m==\u001b[39m specific_data_point)[\u001b[38;5;241m0\u001b[39m][\u001b[38;5;241m0\u001b[39m]\n\u001b[0;32m     18\u001b[0m \u001b[38;5;66;03m# 특정 데이터 포인트 표시\u001b[39;00m\n\u001b[0;32m     19\u001b[0m plt\u001b[38;5;241m.\u001b[39mscatter(\u001b[38;5;241m1\u001b[39m, data[index], color\u001b[38;5;241m=\u001b[39m\u001b[38;5;124m'\u001b[39m\u001b[38;5;124mred\u001b[39m\u001b[38;5;124m'\u001b[39m, label\u001b[38;5;241m=\u001b[39m\u001b[38;5;124m'\u001b[39m\u001b[38;5;124mSpecific Data Point\u001b[39m\u001b[38;5;124m'\u001b[39m)\n",
      "\u001b[1;31mIndexError\u001b[0m: index 0 is out of bounds for axis 0 with size 0"
     ]
    }
   ],
   "source": [
    "import seaborn as sns\n",
    "import numpy as np\n",
    "import matplotlib.pyplot as plt\n",
    "\n",
    "# 샘플 데이터 생성\n",
    "np.random.seed(10)\n",
    "data = np.random.normal(0, 1, 100)\n",
    "\n",
    "# 특정 데이터 포인트\n",
    "specific_data_point = 2.5\n",
    "\n",
    "# 박스플롯 그리기\n",
    "sns.boxplot(data=data)\n",
    "\n",
    "# 특정 데이터 포인트의 위치 찾기\n",
    "index = np.where(data == specific_data_point)[0][0]\n",
    "\n",
    "# 특정 데이터 포인트 표시\n",
    "plt.scatter(1, data[index], color='red', label='Specific Data Point')\n",
    "\n",
    "plt.legend()  # 범례 표시\n",
    "plt.show()\n"
   ]
  },
  {
   "cell_type": "code",
   "execution_count": null,
   "metadata": {},
   "outputs": [],
   "source": []
  }
 ],
 "metadata": {
  "kernelspec": {
   "display_name": "upstage_ai3_eda2",
   "language": "python",
   "name": "python3"
  },
  "language_info": {
   "codemirror_mode": {
    "name": "ipython",
    "version": 3
   },
   "file_extension": ".py",
   "mimetype": "text/x-python",
   "name": "python",
   "nbconvert_exporter": "python",
   "pygments_lexer": "ipython3",
   "version": "3.12.3"
  }
 },
 "nbformat": 4,
 "nbformat_minor": 2
}
